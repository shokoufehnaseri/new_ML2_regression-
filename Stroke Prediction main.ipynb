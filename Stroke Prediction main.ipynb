{
 "cells": [
  {
   "cell_type": "markdown",
   "metadata": {},
   "source": [
    "Reading the data"
   ]
  },
  {
   "cell_type": "markdown",
   "metadata": {},
   "source": [
    "# =========================\n",
    "# 1. IMPORTING LIBRARIES\n",
    "# ========================="
   ]
  },
  {
   "cell_type": "code",
   "execution_count": 5,
   "metadata": {},
   "outputs": [],
   "source": [
    "\n",
    "\n",
    "import pandas as pd\n",
    "import numpy as np\n",
    "\n",
    "# Visualization\n",
    "import matplotlib.pyplot as plt\n",
    "import seaborn as sns\n",
    "\n",
    "# Data Preprocessing & Imputation\n",
    "from sklearn.impute import KNNImputer\n",
    "from sklearn.preprocessing import StandardScaler, LabelEncoder\n",
    "\n",
    "# Sampling / Imbalance Handling\n",
    "from imblearn.over_sampling import SMOTE, ADASYN\n",
    "from imblearn.combine import SMOTETomek\n",
    "from imblearn.pipeline import Pipeline as ImbPipeline\n",
    "\n",
    "# Model Selection, Evaluation & Hyperparameter Tuning\n",
    "from sklearn.model_selection import train_test_split, GridSearchCV, RandomizedSearchCV\n",
    "from sklearn.model_selection import StratifiedKFold, cross_validate\n",
    "from sklearn.metrics import (\n",
    "    classification_report, accuracy_score, confusion_matrix, roc_auc_score,\n",
    "    balanced_accuracy_score, precision_recall_curve, f1_score, make_scorer\n",
    ")\n",
    "\n",
    "# Models\n",
    "from sklearn.ensemble import RandomForestClassifier, StackingClassifier\n",
    "from sklearn.linear_model import LogisticRegression\n",
    "from sklearn.tree import DecisionTreeClassifier\n",
    "from xgboost import XGBClassifier\n",
    "\n",
    "# Decomposition (not used in final code, but was imported)\n",
    "from sklearn.decomposition import PCA\n",
    "\n",
    "# Custom F1 scorer for minority class\n",
    "f1_minority = make_scorer(f1_score, pos_label=1)"
   ]
  },
  {
   "cell_type": "markdown",
   "metadata": {},
   "source": [
    "# =========================\n",
    "# 2. LOADING & EXPLORING DATA\n",
    "# ========================="
   ]
  },
  {
   "cell_type": "code",
   "execution_count": 6,
   "metadata": {},
   "outputs": [
    {
     "name": "stdout",
     "output_type": "stream",
     "text": [
      "\n",
      "Dataset Info:\n",
      "<class 'pandas.core.frame.DataFrame'>\n",
      "RangeIndex: 5359 entries, 0 to 5358\n",
      "Data columns (total 22 columns):\n",
      " #   Column             Non-Null Count  Dtype  \n",
      "---  ------             --------------  -----  \n",
      " 0   id                 5359 non-null   int64  \n",
      " 1   age                5359 non-null   float64\n",
      " 2   avg_glucose_level  5359 non-null   float64\n",
      " 3   bmi                5118 non-null   float64\n",
      " 4   ever_married       5359 non-null   object \n",
      " 5   feat01             5359 non-null   float64\n",
      " 6   feat02             5359 non-null   float64\n",
      " 7   feat03             5359 non-null   float64\n",
      " 8   feat04             5359 non-null   float64\n",
      " 9   feat05             5359 non-null   float64\n",
      " 10  feat06             5359 non-null   float64\n",
      " 11  feat07             5359 non-null   float64\n",
      " 12  feat08             5359 non-null   float64\n",
      " 13  feat09             5359 non-null   float64\n",
      " 14  feat10             5359 non-null   float64\n",
      " 15  gender             5359 non-null   object \n",
      " 16  heart_disease      5359 non-null   int64  \n",
      " 17  hypertension       5359 non-null   int64  \n",
      " 18  Residence_type     5359 non-null   object \n",
      " 19  smoking_status     5359 non-null   object \n",
      " 20  stroke             5359 non-null   int64  \n",
      " 21  work_type          5359 non-null   object \n",
      "dtypes: float64(13), int64(4), object(5)\n",
      "memory usage: 921.2+ KB\n",
      "None\n",
      "\n",
      "Missing Values:\n",
      "id                     0\n",
      "age                    0\n",
      "avg_glucose_level      0\n",
      "bmi                  241\n",
      "ever_married           0\n",
      "feat01                 0\n",
      "feat02                 0\n",
      "feat03                 0\n",
      "feat04                 0\n",
      "feat05                 0\n",
      "feat06                 0\n",
      "feat07                 0\n",
      "feat08                 0\n",
      "feat09                 0\n",
      "feat10                 0\n",
      "gender                 0\n",
      "heart_disease          0\n",
      "hypertension           0\n",
      "Residence_type         0\n",
      "smoking_status         0\n",
      "stroke                 0\n",
      "work_type              0\n",
      "dtype: int64\n",
      "Number of rows in the dataset: 5359\n"
     ]
    }
   ],
   "source": [
    "\n",
    "# Specify the path to your dataset file\n",
    "file_path = 'c1.csv'  # Replace with your dataset's filename\n",
    "\n",
    "# Load the dataset into a Pandas DataFrame\n",
    "data = pd.read_csv(file_path)\n",
    "\n",
    "print(\"\\nDataset Info:\")\n",
    "print(data.info())\n",
    "\n",
    "# Check for missing values\n",
    "print(\"\\nMissing Values:\")\n",
    "print(data.isnull().sum())\n",
    "\n",
    "print(\"Number of rows in the dataset:\", len(data))\n"
   ]
  },
  {
   "cell_type": "markdown",
   "metadata": {},
   "source": [
    "\n",
    "# =========================\n",
    "# 3. DATA CLEANING & INITIAL PROCESSING\n",
    "# =========================\n"
   ]
  },
  {
   "cell_type": "code",
   "execution_count": 7,
   "metadata": {},
   "outputs": [
    {
     "name": "stdout",
     "output_type": "stream",
     "text": [
      "\n",
      "Data After Cleaning (head):\n"
     ]
    },
    {
     "data": {
      "text/html": [
       "<div>\n",
       "<style scoped>\n",
       "    .dataframe tbody tr th:only-of-type {\n",
       "        vertical-align: middle;\n",
       "    }\n",
       "\n",
       "    .dataframe tbody tr th {\n",
       "        vertical-align: top;\n",
       "    }\n",
       "\n",
       "    .dataframe thead th {\n",
       "        text-align: right;\n",
       "    }\n",
       "</style>\n",
       "<table border=\"1\" class=\"dataframe\">\n",
       "  <thead>\n",
       "    <tr style=\"text-align: right;\">\n",
       "      <th></th>\n",
       "      <th>age</th>\n",
       "      <th>avg_glucose_level</th>\n",
       "      <th>bmi</th>\n",
       "      <th>ever_married</th>\n",
       "      <th>feat01</th>\n",
       "      <th>feat02</th>\n",
       "      <th>feat03</th>\n",
       "      <th>feat04</th>\n",
       "      <th>feat05</th>\n",
       "      <th>feat06</th>\n",
       "      <th>...</th>\n",
       "      <th>feat08</th>\n",
       "      <th>feat09</th>\n",
       "      <th>feat10</th>\n",
       "      <th>gender</th>\n",
       "      <th>heart_disease</th>\n",
       "      <th>hypertension</th>\n",
       "      <th>Residence_type</th>\n",
       "      <th>smoking_status</th>\n",
       "      <th>stroke</th>\n",
       "      <th>work_type</th>\n",
       "    </tr>\n",
       "  </thead>\n",
       "  <tbody>\n",
       "    <tr>\n",
       "      <th>0</th>\n",
       "      <td>75.0</td>\n",
       "      <td>219.82</td>\n",
       "      <td>29.5</td>\n",
       "      <td>Yes</td>\n",
       "      <td>0.475089</td>\n",
       "      <td>0.595032</td>\n",
       "      <td>1.230383</td>\n",
       "      <td>0.845381</td>\n",
       "      <td>1.067904</td>\n",
       "      <td>0.697787</td>\n",
       "      <td>...</td>\n",
       "      <td>1.426921</td>\n",
       "      <td>1.454747</td>\n",
       "      <td>0.441987</td>\n",
       "      <td>Female</td>\n",
       "      <td>0</td>\n",
       "      <td>1</td>\n",
       "      <td>Rural</td>\n",
       "      <td>formerly smoked</td>\n",
       "      <td>0</td>\n",
       "      <td>Self-employed</td>\n",
       "    </tr>\n",
       "    <tr>\n",
       "      <th>1</th>\n",
       "      <td>50.0</td>\n",
       "      <td>69.92</td>\n",
       "      <td>18.7</td>\n",
       "      <td>Yes</td>\n",
       "      <td>0.618836</td>\n",
       "      <td>0.432241</td>\n",
       "      <td>1.402145</td>\n",
       "      <td>1.191038</td>\n",
       "      <td>1.395761</td>\n",
       "      <td>0.950934</td>\n",
       "      <td>...</td>\n",
       "      <td>1.320794</td>\n",
       "      <td>0.708369</td>\n",
       "      <td>0.348898</td>\n",
       "      <td>Female</td>\n",
       "      <td>0</td>\n",
       "      <td>0</td>\n",
       "      <td>Urban</td>\n",
       "      <td>formerly smoked</td>\n",
       "      <td>0</td>\n",
       "      <td>Self-employed</td>\n",
       "    </tr>\n",
       "    <tr>\n",
       "      <th>2</th>\n",
       "      <td>79.0</td>\n",
       "      <td>72.73</td>\n",
       "      <td>28.4</td>\n",
       "      <td>Yes</td>\n",
       "      <td>0.421711</td>\n",
       "      <td>0.629341</td>\n",
       "      <td>0.916465</td>\n",
       "      <td>1.107330</td>\n",
       "      <td>1.335406</td>\n",
       "      <td>0.527874</td>\n",
       "      <td>...</td>\n",
       "      <td>0.669458</td>\n",
       "      <td>0.696877</td>\n",
       "      <td>0.809689</td>\n",
       "      <td>Male</td>\n",
       "      <td>0</td>\n",
       "      <td>0</td>\n",
       "      <td>Rural</td>\n",
       "      <td>never smoked</td>\n",
       "      <td>1</td>\n",
       "      <td>Private</td>\n",
       "    </tr>\n",
       "    <tr>\n",
       "      <th>3</th>\n",
       "      <td>3.0</td>\n",
       "      <td>78.24</td>\n",
       "      <td>16.2</td>\n",
       "      <td>No</td>\n",
       "      <td>0.482635</td>\n",
       "      <td>0.557748</td>\n",
       "      <td>0.762485</td>\n",
       "      <td>0.925121</td>\n",
       "      <td>0.975914</td>\n",
       "      <td>0.572831</td>\n",
       "      <td>...</td>\n",
       "      <td>0.420634</td>\n",
       "      <td>1.343314</td>\n",
       "      <td>0.444809</td>\n",
       "      <td>Male</td>\n",
       "      <td>0</td>\n",
       "      <td>0</td>\n",
       "      <td>Rural</td>\n",
       "      <td>Unknown</td>\n",
       "      <td>0</td>\n",
       "      <td>children</td>\n",
       "    </tr>\n",
       "    <tr>\n",
       "      <th>4</th>\n",
       "      <td>53.0</td>\n",
       "      <td>196.25</td>\n",
       "      <td>24.9</td>\n",
       "      <td>Yes</td>\n",
       "      <td>0.435785</td>\n",
       "      <td>0.497572</td>\n",
       "      <td>0.743418</td>\n",
       "      <td>1.007523</td>\n",
       "      <td>0.648819</td>\n",
       "      <td>0.937078</td>\n",
       "      <td>...</td>\n",
       "      <td>0.648643</td>\n",
       "      <td>1.168722</td>\n",
       "      <td>0.391860</td>\n",
       "      <td>Female</td>\n",
       "      <td>1</td>\n",
       "      <td>1</td>\n",
       "      <td>Urban</td>\n",
       "      <td>smokes</td>\n",
       "      <td>0</td>\n",
       "      <td>Private</td>\n",
       "    </tr>\n",
       "  </tbody>\n",
       "</table>\n",
       "<p>5 rows × 21 columns</p>\n",
       "</div>"
      ],
      "text/plain": [
       "    age  avg_glucose_level   bmi ever_married    feat01    feat02    feat03  \\\n",
       "0  75.0             219.82  29.5          Yes  0.475089  0.595032  1.230383   \n",
       "1  50.0              69.92  18.7          Yes  0.618836  0.432241  1.402145   \n",
       "2  79.0              72.73  28.4          Yes  0.421711  0.629341  0.916465   \n",
       "3   3.0              78.24  16.2           No  0.482635  0.557748  0.762485   \n",
       "4  53.0             196.25  24.9          Yes  0.435785  0.497572  0.743418   \n",
       "\n",
       "     feat04    feat05    feat06  ...    feat08    feat09    feat10  gender  \\\n",
       "0  0.845381  1.067904  0.697787  ...  1.426921  1.454747  0.441987  Female   \n",
       "1  1.191038  1.395761  0.950934  ...  1.320794  0.708369  0.348898  Female   \n",
       "2  1.107330  1.335406  0.527874  ...  0.669458  0.696877  0.809689    Male   \n",
       "3  0.925121  0.975914  0.572831  ...  0.420634  1.343314  0.444809    Male   \n",
       "4  1.007523  0.648819  0.937078  ...  0.648643  1.168722  0.391860  Female   \n",
       "\n",
       "  heart_disease  hypertension  Residence_type   smoking_status stroke  \\\n",
       "0             0             1           Rural  formerly smoked      0   \n",
       "1             0             0           Urban  formerly smoked      0   \n",
       "2             0             0           Rural     never smoked      1   \n",
       "3             0             0           Rural          Unknown      0   \n",
       "4             1             1           Urban           smokes      0   \n",
       "\n",
       "       work_type  \n",
       "0  Self-employed  \n",
       "1  Self-employed  \n",
       "2        Private  \n",
       "3       children  \n",
       "4        Private  \n",
       "\n",
       "[5 rows x 21 columns]"
      ]
     },
     "execution_count": 7,
     "metadata": {},
     "output_type": "execute_result"
    }
   ],
   "source": [
    "\n",
    "# =========================\n",
    "# 3. DATA CLEANING & INITIAL PROCESSING\n",
    "# =========================\n",
    "\n",
    "# Drop irrelevant columns\n",
    "data = data.drop(columns=['id'])\n",
    "\n",
    "print(\"\\nData After Cleaning (head):\")\n",
    "data.head()"
   ]
  },
  {
   "cell_type": "code",
   "execution_count": 8,
   "metadata": {},
   "outputs": [],
   "source": [
    "# Identify numerical columns to check for outliers\n",
    "numerical_cols = ['age', 'avg_glucose_level', 'bmi']\n"
   ]
  },
  {
   "cell_type": "code",
   "execution_count": 9,
   "metadata": {},
   "outputs": [
    {
     "data": {
      "image/png": "[encoded data removed]",
      "text/plain": [
       "<Figure size 600x400 with 1 Axes>"
      ]
     },
     "metadata": {},
     "output_type": "display_data"
    },
    {
     "data": {
      "image/png": "[encoded data removed]",
      "text/plain": [
       "<Figure size 600x400 with 1 Axes>"
      ]
     },
     "metadata": {},
     "output_type": "display_data"
    },
    {
     "data": {
      "image/png": "[encoded data removed]",
      "text/plain": [
       "<Figure size 600x400 with 1 Axes>"
      ]
     },
     "metadata": {},
     "output_type": "display_data"
    }
   ],
   "source": [
    "# Visualize outliers with boxplots\n",
    "for col in numerical_cols:\n",
    "    plt.figure(figsize=(6, 4))\n",
    "    sns.boxplot(x=data[col])\n",
    "    plt.title(f'Boxplot for {col}')\n",
    "    plt.show()"
   ]
  },
  {
   "cell_type": "markdown",
   "metadata": {},
   "source": [
    "# Age: No action needed.\n",
    "# Average Glucose Level: Consider clipping extreme values.\n",
    "# BMI: Similarly, clip extreme BMI values.\n"
   ]
  },
  {
   "cell_type": "code",
   "execution_count": 10,
   "metadata": {},
   "outputs": [],
   "source": [
    "# Clip outliers using IQR method\n",
    "for col in numerical_cols:\n",
    "    Q1 = data[col].quantile(0.25)\n",
    "    Q3 = data[col].quantile(0.75)\n",
    "    IQR = Q3 - Q1\n",
    "    lower_bound = Q1 - 1.5 * IQR\n",
    "    upper_bound = Q3 + 1.5 * IQR\n",
    "    data[col] = data[col].clip(lower=lower_bound, upper=upper_bound)\n"
   ]
  },
  {
   "cell_type": "code",
   "execution_count": 11,
   "metadata": {},
   "outputs": [
    {
     "data": {
      "image/png": "[encoded data removed]",
      "text/plain": [
       "<Figure size 600x400 with 1 Axes>"
      ]
     },
     "metadata": {},
     "output_type": "display_data"
    },
    {
     "data": {
      "image/png": "[encoded data removed]",
      "text/plain": [
       "<Figure size 600x400 with 1 Axes>"
      ]
     },
     "metadata": {},
     "output_type": "display_data"
    },
    {
     "data": {
      "image/png": "[encoded data removed]",
      "text/plain": [
       "<Figure size 600x400 with 1 Axes>"
      ]
     },
     "metadata": {},
     "output_type": "display_data"
    }
   ],
   "source": [
    "# Check for outliers again (post-clipping)\n",
    "for col in numerical_cols:\n",
    "    plt.figure(figsize=(6, 4))\n",
    "    sns.boxplot(x=data[col])\n",
    "    plt.title(f'Boxplot for {col} (After Clipping)')\n",
    "    plt.show()"
   ]
  },
  {
   "cell_type": "code",
   "execution_count": 12,
   "metadata": {},
   "outputs": [],
   "source": [
    "categorical_cols = ['gender', 'ever_married', 'Residence_type', 'smoking_status', 'work_type']\n",
    "for col in categorical_cols:\n",
    "    # Keep original comment showing what you attempted\n",
    "    # data[col] = data[col].str.strip().str.lower().str.replace('_', ' ').str.capitalize()\n",
    "    data[col] = data[col].str.strip().str.lower().str.replace('_', ' ').str.capitalize()\n"
   ]
  },
  {
   "cell_type": "markdown",
   "metadata": {},
   "source": [
    "# =========================\n",
    "# 4. EXPLORATORY DATA ANALYSIS (EDA)\n",
    "# =========================\n"
   ]
  },
  {
   "cell_type": "code",
   "execution_count": 13,
   "metadata": {},
   "outputs": [
    {
     "name": "stderr",
     "output_type": "stream",
     "text": [
      "C:\\Users\\gzzaw\\AppData\\Local\\Temp\\ipykernel_46300\\891173390.py:3: FutureWarning: \n",
      "\n",
      "Passing `palette` without assigning `hue` is deprecated and will be removed in v0.14.0. Assign the `x` variable to `hue` and set `legend=False` for the same effect.\n",
      "\n",
      "  sns.countplot(x='stroke', data=data, palette='viridis')\n"
     ]
    },
    {
     "data": {
      "image/png": "[encoded data removed]",
      "text/plain": [
       "<Figure size 600x400 with 1 Axes>"
      ]
     },
     "metadata": {},
     "output_type": "display_data"
    }
   ],
   "source": [
    "\n",
    "# Target Variable Distribution\n",
    "plt.figure(figsize=(6, 4))\n",
    "sns.countplot(x='stroke', data=data, palette='viridis')\n",
    "plt.title('Distribution of Stroke (Target Variable)')\n",
    "plt.xlabel('Stroke (0 = No, 1 = Yes)')\n",
    "plt.ylabel('Count')\n",
    "plt.show()\n"
   ]
  },
  {
   "cell_type": "code",
   "execution_count": 14,
   "metadata": {},
   "outputs": [
    {
     "data": {
      "image/png": "[encoded data removed]",
      "text/plain": [
       "<Figure size 600x400 with 1 Axes>"
      ]
     },
     "metadata": {},
     "output_type": "display_data"
    }
   ],
   "source": [
    "# Age Distribution\n",
    "plt.figure(figsize=(6, 4))\n",
    "sns.histplot(data['age'], bins=30, kde=True, color='blue')\n",
    "plt.title('Age Distribution')\n",
    "plt.xlabel('Age')\n",
    "plt.ylabel('Frequency')\n",
    "plt.show()"
   ]
  },
  {
   "cell_type": "code",
   "execution_count": 16,
   "metadata": {},
   "outputs": [
    {
     "data": {
      "image/png": "[encoded data removed]",
      "text/plain": [
       "<Figure size 600x400 with 1 Axes>"
      ]
     },
     "metadata": {},
     "output_type": "display_data"
    }
   ],
   "source": [
    "# Average Glucose Level Distribution\n",
    "plt.figure(figsize=(6, 4))\n",
    "sns.histplot(data['avg_glucose_level'], bins=30, kde=True, color='orange')\n",
    "plt.title('Average Glucose Level Distribution')\n",
    "plt.xlabel('Average Glucose Level')\n",
    "plt.ylabel('Frequency')\n",
    "plt.show()"
   ]
  },
  {
   "cell_type": "code",
   "execution_count": 17,
   "metadata": {},
   "outputs": [
    {
     "data": {
      "image/png": "[encoded data removed]",
      "text/plain": [
       "<Figure size 600x400 with 1 Axes>"
      ]
     },
     "metadata": {},
     "output_type": "display_data"
    }
   ],
   "source": [
    "# BMI Distribution\n",
    "plt.figure(figsize=(6, 4))\n",
    "sns.histplot(data['bmi'], bins=30, kde=True, color='green')\n",
    "plt.title('BMI Distribution')\n",
    "plt.xlabel('BMI')\n",
    "plt.ylabel('Frequency')\n",
    "plt.show()"
   ]
  },
  {
   "cell_type": "markdown",
   "metadata": {},
   "source": [
    "\n",
    "# =========================\n",
    "# 5. ENCODING & IMPUTATION\n",
    "# =========================\n"
   ]
  },
  {
   "cell_type": "code",
   "execution_count": 18,
   "metadata": {},
   "outputs": [],
   "source": [
    "# Replace label encoding with one-hot encoding (as per your comment)\n",
    "data = pd.get_dummies(data, columns=categorical_cols)\n"
   ]
  },
  {
   "cell_type": "code",
   "execution_count": 19,
   "metadata": {},
   "outputs": [],
   "source": [
    "# Checking the BMI null values\n",
    "# \"We found that when BMI is null a lot of records had smoking as unknown...\" (as per your note).\n",
    "# Using KNNImputer here\n",
    "\n",
    "# Filter the data where BMI was originally null\n",
    "filtered_data = data[data['bmi'].isnull()]"
   ]
  },
  {
   "cell_type": "code",
   "execution_count": 22,
   "metadata": {},
   "outputs": [],
   "source": [
    "# Initialize the KNNImputer\n",
    "imputer = KNNImputer(n_neighbors=5)\n",
    "\n",
    "# Apply the imputer to the dataset\n",
    "data_imputed = imputer.fit_transform(data)"
   ]
  },
  {
   "cell_type": "code",
   "execution_count": 23,
   "metadata": {},
   "outputs": [],
   "source": [
    "# Convert the imputed data back to a DataFrame\n",
    "data = pd.DataFrame(data_imputed, columns=data.columns)\n",
    "\n"
   ]
  },
  {
   "cell_type": "code",
   "execution_count": 24,
   "metadata": {},
   "outputs": [
    {
     "data": {
      "image/png": "[encoded data removed]",
      "text/plain": [
       "<Figure size 600x400 with 1 Axes>"
      ]
     },
     "metadata": {},
     "output_type": "display_data"
    }
   ],
   "source": [
    "# Check BMI distribution after MICE (original comment references MICE, but KNNImputer is used)\n",
    "plt.figure(figsize=(6, 4))\n",
    "sns.histplot(data['bmi'], bins=30, kde=True, color='green')\n",
    "plt.title('BMI Distribution After Imputation')\n",
    "plt.xlabel('BMI')\n",
    "plt.ylabel('Frequency')\n",
    "plt.show()"
   ]
  },
  {
   "cell_type": "code",
   "execution_count": 25,
   "metadata": {},
   "outputs": [
    {
     "name": "stdout",
     "output_type": "stream",
     "text": [
      "Correlation with Stroke After Imputation:\n",
      "stroke                            1.000000\n",
      "age                               0.327436\n",
      "heart_disease                     0.172797\n",
      "hypertension                      0.166696\n",
      "avg_glucose_level                 0.154001\n",
      "feat01                            0.151337\n",
      "ever_married_Yes                  0.147214\n",
      "smoking_status_Formerly smoked    0.086081\n",
      "work_type_Self-employed           0.082867\n",
      "bmi                               0.060860\n",
      "Residence_type_Urban              0.020846\n",
      "feat08                            0.020654\n",
      "work_type_Private                 0.016037\n",
      "gender_Male                       0.012291\n",
      "smoking_status_Smokes             0.012033\n",
      "feat07                            0.005553\n",
      "feat06                            0.005205\n",
      "feat03                            0.004978\n",
      "feat05                            0.004677\n",
      "work_type_Govt job                0.003607\n",
      "feat04                            0.000756\n",
      "gender_Other                     -0.004373\n",
      "smoking_status_Never smoked      -0.005569\n",
      "feat09                           -0.007941\n",
      "gender_Female                    -0.012168\n",
      "work_type_Never worked           -0.020550\n",
      "Residence_type_Rural             -0.020846\n",
      "smoking_status_Unknown           -0.075751\n",
      "work_type_Children               -0.115262\n",
      "feat02                           -0.129454\n",
      "feat10                           -0.145324\n",
      "ever_married_No                  -0.147214\n",
      "Name: stroke, dtype: float64\n"
     ]
    }
   ],
   "source": [
    "# Check correlation with stroke\n",
    "correlation_matrix = data.corr()\n",
    "print(\"Correlation with Stroke After Imputation:\")\n",
    "print(correlation_matrix['stroke'].sort_values(ascending=False))\n"
   ]
  },
  {
   "cell_type": "code",
   "execution_count": 26,
   "metadata": {},
   "outputs": [],
   "source": [
    "# Separate features and target\n",
    "X = data.drop(columns=['stroke'])\n",
    "y = data['stroke']\n"
   ]
  },
  {
   "cell_type": "code",
   "execution_count": 27,
   "metadata": {},
   "outputs": [],
   "source": [
    "# Scale numerical features\n",
    "scaler = StandardScaler()\n",
    "X[numerical_cols] = scaler.fit_transform(X[numerical_cols])\n"
   ]
  },
  {
   "cell_type": "code",
   "execution_count": 29,
   "metadata": {},
   "outputs": [
    {
     "name": "stdout",
     "output_type": "stream",
     "text": [
      "\n",
      "Correlation with 'stroke':\n",
      "stroke                            1.000000\n",
      "age                               0.327436\n",
      "heart_disease                     0.172797\n",
      "hypertension                      0.166696\n",
      "avg_glucose_level                 0.154001\n",
      "feat01                            0.151337\n",
      "ever_married_Yes                  0.147214\n",
      "smoking_status_Formerly smoked    0.086081\n",
      "work_type_Self-employed           0.082867\n",
      "bmi                               0.060860\n",
      "Residence_type_Urban              0.020846\n",
      "feat08                            0.020654\n",
      "work_type_Private                 0.016037\n",
      "gender_Male                       0.012291\n",
      "smoking_status_Smokes             0.012033\n",
      "feat07                            0.005553\n",
      "feat06                            0.005205\n",
      "feat03                            0.004978\n",
      "feat05                            0.004677\n",
      "work_type_Govt job                0.003607\n",
      "feat04                            0.000756\n",
      "gender_Other                     -0.004373\n",
      "smoking_status_Never smoked      -0.005569\n",
      "feat09                           -0.007941\n",
      "gender_Female                    -0.012168\n",
      "work_type_Never worked           -0.020550\n",
      "Residence_type_Rural             -0.020846\n",
      "smoking_status_Unknown           -0.075751\n",
      "work_type_Children               -0.115262\n",
      "feat02                           -0.129454\n",
      "feat10                           -0.145324\n",
      "ever_married_No                  -0.147214\n",
      "Name: stroke, dtype: float64\n"
     ]
    }
   ],
   "source": [
    "# (Optional) Check the correlation matrix again\n",
    "correlation_matrix = data.corr()\n",
    "\n",
    "\n",
    "print(\"\\nCorrelation with 'stroke':\")\n",
    "print(correlation_matrix['stroke'].sort_values(ascending=False))\n"
   ]
  },
  {
   "cell_type": "code",
   "execution_count": null,
   "metadata": {},
   "outputs": [],
   "source": [
    "# Keep your original check for some unknown feat01 column\n",
    "# Check if feat01 values have been modified\n",
    "# print(\"feat01 Column Stats Before Correlation Calculation:\")\n",
    "# print(data['feat01'].describe())\n",
    "# correlation_matrix = data.corr()\n",
    "# print(\"Correlation with feat01:\")\n",
    "# print(correlation_matrix['feat01'])"
   ]
  },
  {
   "cell_type": "markdown",
   "metadata": {},
   "source": [
    "# =========================\n",
    "# 6. TRAIN-TEST SPLIT\n",
    "# =========================\n"
   ]
  },
  {
   "cell_type": "code",
   "execution_count": 30,
   "metadata": {},
   "outputs": [],
   "source": [
    "\n",
    "# Perform train-test split\n",
    "X_train, X_test, y_train, y_test = train_test_split(\n",
    "    X, y,\n",
    "    test_size=0.2,\n",
    "    stratify=y,\n",
    "    random_state=42\n",
    ")"
   ]
  },
  {
   "cell_type": "code",
   "execution_count": 31,
   "metadata": {},
   "outputs": [],
   "source": [
    "# Keep your repeated comment about applying SMOTETomek or ADASYN\n",
    "# from imblearn.combine import SMOTETomek\n",
    "# Apply SMOTE with Tomek Links\n",
    "smote_tomek = ADASYN(random_state=42)\n",
    "X_resampled, y_resampled = smote_tomek.fit_resample(X_train, y_train)\n"
   ]
  },
  {
   "cell_type": "markdown",
   "metadata": {},
   "source": [
    "# =========================\n",
    "# 7. CUSTOM FUNCTION FOR BEST F1 THRESHOLD\n",
    "# ========================="
   ]
  },
  {
   "cell_type": "code",
   "execution_count": 32,
   "metadata": {},
   "outputs": [],
   "source": [
    "def best_threshold_for_f1(model, X, y_true, pos_label=1):\n",
    "    \"\"\"\n",
    "    Given a fitted model, features X, and true labels y_true,\n",
    "    find the probability threshold that maximizes F1 for the minority class.\n",
    "    \"\"\"\n",
    "    y_scores = model.predict_proba(X)[:, 1]  # probabilities for positive class\n",
    "    precisions, recalls, thresholds = precision_recall_curve(y_true, y_scores, pos_label=pos_label)\n",
    "    \n",
    "    f1_scores = 2 * (precisions * recalls) / (precisions + recalls + 1e-9)\n",
    "    best_idx = np.argmax(f1_scores)\n",
    "    best_thresh = thresholds[best_idx]\n",
    "    best_f1 = f1_scores[best_idx]\n",
    "    return best_thresh, best_f1"
   ]
  },
  {
   "cell_type": "markdown",
   "metadata": {},
   "source": [
    "\n",
    "# =========================\n",
    "# 8. (COMMENTED CODE) STACKING MODEL SECTION\n",
    "# ========================="
   ]
  },
  {
   "cell_type": "code",
   "execution_count": 33,
   "metadata": {},
   "outputs": [
    {
     "data": {
      "text/plain": [
       "'\\nthreshold_stack, best_f1_stack = best_threshold_for_f1(best_stack_model, X_test, y_test)\\nprint(f\"\\\\nBest Threshold for Stacking Model: {threshold_stack:.3f}, F1={best_f1_stack:.3f}\")\\n\\ny_scores_stack = best_stack_model.predict_proba(X_test)[:, 1]\\ny_pred_stack_custom = (y_scores_stack >= threshold_stack).astype(int)\\n\\nprint(\"Stacking Classifier Report (Custom Threshold):\")\\nprint(classification_report(y_test, y_pred_stack_custom))\\n'"
      ]
     },
     "execution_count": 33,
     "metadata": {},
     "output_type": "execute_result"
    }
   ],
   "source": [
    "# This code references a 'best_stack_model' which is not defined above.\n",
    "# Preserved as-is per your request to keep all original commentary/code.\n",
    "\n",
    "\"\"\"\n",
    "threshold_stack, best_f1_stack = best_threshold_for_f1(best_stack_model, X_test, y_test)\n",
    "print(f\"\\\\nBest Threshold for Stacking Model: {threshold_stack:.3f}, F1={best_f1_stack:.3f}\")\n",
    "\n",
    "y_scores_stack = best_stack_model.predict_proba(X_test)[:, 1]\n",
    "y_pred_stack_custom = (y_scores_stack >= threshold_stack).astype(int)\n",
    "\n",
    "print(\"Stacking Classifier Report (Custom Threshold):\")\n",
    "print(classification_report(y_test, y_pred_stack_custom))\n",
    "\"\"\"\n"
   ]
  },
  {
   "cell_type": "markdown",
   "metadata": {},
   "source": [
    "# =========================\n",
    "# 9. RANDOM FOREST PIPELINE + GRID SEARCH\n",
    "# ========================="
   ]
  },
  {
   "cell_type": "code",
   "execution_count": 34,
   "metadata": {},
   "outputs": [],
   "source": [
    "# Example hyperparameter space for Random Forest\n",
    "param_grid_rf = {\n",
    "    'clf__n_estimators': [100, 200],\n",
    "    'clf__max_depth': [10, 20, None],\n",
    "    'clf__class_weight': [\n",
    "        {0:1, 1:2}, {0:1, 1:3}, {0:1, 1:5}, \n",
    "        {0:1, 1:8}, {0:1, 1:10}, 'balanced'\n",
    "    ]\n",
    "}\n"
   ]
  },
  {
   "cell_type": "code",
   "execution_count": 35,
   "metadata": {},
   "outputs": [],
   "source": [
    "# Build pipeline\n",
    "rf_pipeline = ImbPipeline([\n",
    "    ('scaler', StandardScaler()),\n",
    "    ('resample', SMOTETomek(random_state=42)),  # or SMOTE(), ADASYN(), etc.\n",
    "    ('clf', RandomForestClassifier(random_state=42))\n",
    "])"
   ]
  },
  {
   "cell_type": "code",
   "execution_count": 36,
   "metadata": {},
   "outputs": [],
   "source": [
    "# Stratified cross-validator\n",
    "skf = StratifiedKFold(n_splits=5, shuffle=True, random_state=42)\n"
   ]
  },
  {
   "cell_type": "code",
   "execution_count": 37,
   "metadata": {},
   "outputs": [],
   "source": [
    "# Grid Search CV for RF\n",
    "grid_search_rf = GridSearchCV(\n",
    "    estimator=rf_pipeline,\n",
    "    param_grid=param_grid_rf,\n",
    "    scoring=f1_minority,  # focus on minority class F1\n",
    "    cv=skf,\n",
    "    n_jobs=-1,\n",
    "    verbose=1\n",
    ")"
   ]
  },
  {
   "cell_type": "code",
   "execution_count": 39,
   "metadata": {},
   "outputs": [
    {
     "name": "stdout",
     "output_type": "stream",
     "text": [
      "Fitting 5 folds for each of 36 candidates, totalling 180 fits\n",
      "Best Params (Random Forest): {'clf__class_weight': {0: 1, 1: 3}, 'clf__max_depth': None, 'clf__n_estimators': 200}\n",
      "Best F1 (minority class) on CV: 0.9577158956691892\n"
     ]
    }
   ],
   "source": [
    "# Fit the grid search on resampled data\n",
    "grid_search_rf.fit(X_resampled, y_resampled)\n",
    "\n",
    "print(\"Best Params (Random Forest):\", grid_search_rf.best_params_)\n",
    "print(\"Best F1 (minority class) on CV:\", grid_search_rf.best_score_)\n"
   ]
  },
  {
   "cell_type": "code",
   "execution_count": 40,
   "metadata": {},
   "outputs": [
    {
     "name": "stdout",
     "output_type": "stream",
     "text": [
      "\n",
      "Random Forest Test Set Classification Report:\n",
      "              precision    recall  f1-score   support\n",
      "\n",
      "         0.0       0.94      0.95      0.95       972\n",
      "         1.0       0.48      0.41      0.44       100\n",
      "\n",
      "    accuracy                           0.90      1072\n",
      "   macro avg       0.71      0.68      0.70      1072\n",
      "weighted avg       0.90      0.90      0.90      1072\n",
      "\n"
     ]
    }
   ],
   "source": [
    "\n",
    "best_rf = grid_search_rf.best_estimator_\n",
    "\n",
    "# Retrain best RF pipeline on entire resampled training set\n",
    "best_rf.fit(X_resampled, y_resampled)\n",
    "\n",
    "# Predict on test set\n",
    "y_pred_rf = best_rf.predict(X_test)\n",
    "\n",
    "print(\"\\nRandom Forest Test Set Classification Report:\")\n",
    "print(classification_report(y_test, y_pred_rf))\n"
   ]
  },
  {
   "cell_type": "markdown",
   "metadata": {},
   "source": [
    "# =========================\n",
    "# 10. XGBOOST PIPELINE + GRID SEARCH\n",
    "# ========================="
   ]
  },
  {
   "cell_type": "code",
   "execution_count": 41,
   "metadata": {},
   "outputs": [
    {
     "name": "stdout",
     "output_type": "stream",
     "text": [
      "Fitting 5 folds for each of 24 candidates, totalling 120 fits\n"
     ]
    },
    {
     "name": "stderr",
     "output_type": "stream",
     "text": [
      "c:\\Users\\gzzaw\\AppData\\Local\\Programs\\Python\\Python310\\lib\\site-packages\\sklearn\\model_selection\\_validation.py:378: FitFailedWarning: \n",
      "2 fits failed out of a total of 120.\n",
      "The score on these train-test partitions for these parameters will be set to nan.\n",
      "If these failures are not expected, you can try to debug them by setting error_score='raise'.\n",
      "\n",
      "Below are more details about the failures:\n",
      "--------------------------------------------------------------------------------\n",
      "1 fits failed with the following error:\n",
      "Traceback (most recent call last):\n",
      "  File \"c:\\Users\\gzzaw\\AppData\\Local\\Programs\\Python\\Python310\\lib\\site-packages\\sklearn\\model_selection\\_validation.py\", line 686, in _fit_and_score\n",
      "    estimator.fit(X_train, y_train, **fit_params)\n",
      "  File \"c:\\Users\\gzzaw\\AppData\\Local\\Programs\\Python\\Python310\\lib\\site-packages\\imblearn\\pipeline.py\", line 297, in fit\n",
      "    self._final_estimator.fit(Xt, yt, **fit_params_last_step)\n",
      "  File \"c:\\Users\\gzzaw\\AppData\\Local\\Programs\\Python\\Python310\\lib\\site-packages\\xgboost\\core.py\", line 726, in inner_f\n",
      "    return func(**kwargs)\n",
      "  File \"c:\\Users\\gzzaw\\AppData\\Local\\Programs\\Python\\Python310\\lib\\site-packages\\xgboost\\sklearn.py\", line 1512, in fit\n",
      "    train_dmatrix, evals = _wrap_evaluation_matrices(\n",
      "  File \"c:\\Users\\gzzaw\\AppData\\Local\\Programs\\Python\\Python310\\lib\\site-packages\\xgboost\\sklearn.py\", line 596, in _wrap_evaluation_matrices\n",
      "    train_dmatrix = create_dmatrix(\n",
      "  File \"c:\\Users\\gzzaw\\AppData\\Local\\Programs\\Python\\Python310\\lib\\site-packages\\xgboost\\sklearn.py\", line 1003, in _create_dmatrix\n",
      "    return QuantileDMatrix(\n",
      "  File \"c:\\Users\\gzzaw\\AppData\\Local\\Programs\\Python\\Python310\\lib\\site-packages\\xgboost\\core.py\", line 726, in inner_f\n",
      "    return func(**kwargs)\n",
      "  File \"c:\\Users\\gzzaw\\AppData\\Local\\Programs\\Python\\Python310\\lib\\site-packages\\xgboost\\core.py\", line 1573, in __init__\n",
      "    self._init(\n",
      "  File \"c:\\Users\\gzzaw\\AppData\\Local\\Programs\\Python\\Python310\\lib\\site-packages\\xgboost\\core.py\", line 1632, in _init\n",
      "    it.reraise()\n",
      "  File \"c:\\Users\\gzzaw\\AppData\\Local\\Programs\\Python\\Python310\\lib\\site-packages\\xgboost\\core.py\", line 569, in reraise\n",
      "    raise exc  # pylint: disable=raising-bad-type\n",
      "  File \"c:\\Users\\gzzaw\\AppData\\Local\\Programs\\Python\\Python310\\lib\\site-packages\\xgboost\\core.py\", line 550, in _handle_exception\n",
      "    return fn()\n",
      "  File \"c:\\Users\\gzzaw\\AppData\\Local\\Programs\\Python\\Python310\\lib\\site-packages\\xgboost\\core.py\", line 637, in <lambda>\n",
      "    return self._handle_exception(lambda: self.next(input_data), 0)\n",
      "  File \"c:\\Users\\gzzaw\\AppData\\Local\\Programs\\Python\\Python310\\lib\\site-packages\\xgboost\\data.py\", line 1402, in next\n",
      "    input_data(**self.kwargs)\n",
      "  File \"c:\\Users\\gzzaw\\AppData\\Local\\Programs\\Python\\Python310\\lib\\site-packages\\xgboost\\core.py\", line 726, in inner_f\n",
      "    return func(**kwargs)\n",
      "  File \"c:\\Users\\gzzaw\\AppData\\Local\\Programs\\Python\\Python310\\lib\\site-packages\\xgboost\\core.py\", line 626, in input_data\n",
      "    self.proxy.set_info(\n",
      "  File \"c:\\Users\\gzzaw\\AppData\\Local\\Programs\\Python\\Python310\\lib\\site-packages\\xgboost\\core.py\", line 726, in inner_f\n",
      "    return func(**kwargs)\n",
      "  File \"c:\\Users\\gzzaw\\AppData\\Local\\Programs\\Python\\Python310\\lib\\site-packages\\xgboost\\core.py\", line 954, in set_info\n",
      "    self.set_label(label)\n",
      "  File \"c:\\Users\\gzzaw\\AppData\\Local\\Programs\\Python\\Python310\\lib\\site-packages\\xgboost\\core.py\", line 1092, in set_label\n",
      "    dispatch_meta_backend(self, label, \"label\", \"float\")\n",
      "  File \"c:\\Users\\gzzaw\\AppData\\Local\\Programs\\Python\\Python310\\lib\\site-packages\\xgboost\\data.py\", line 1348, in dispatch_meta_backend\n",
      "    _meta_from_pandas_series(data, name, dtype, handle)\n",
      "  File \"c:\\Users\\gzzaw\\AppData\\Local\\Programs\\Python\\Python310\\lib\\site-packages\\xgboost\\data.py\", line 679, in _meta_from_pandas_series\n",
      "    _meta_from_numpy(data, name, dtype, handle)\n",
      "  File \"c:\\Users\\gzzaw\\AppData\\Local\\Programs\\Python\\Python310\\lib\\site-packages\\xgboost\\data.py\", line 1279, in _meta_from_numpy\n",
      "    _check_call(_LIB.XGDMatrixSetInfoFromInterface(handle, c_str(field), interface_str))\n",
      "  File \"c:\\Users\\gzzaw\\AppData\\Local\\Programs\\Python\\Python310\\lib\\site-packages\\xgboost\\core.py\", line 284, in _check_call\n",
      "    raise XGBoostError(py_str(_LIB.XGBGetLastError()))\n",
      "xgboost.core.XGBoostError: [12:37:24] C:\\buildkite-agent\\builds\\buildkite-windows-cpu-autoscaling-group-i-0c55ff5f71b100e98-1\\xgboost\\xgboost-ci-windows\\src\\data\\array_interface.cu:44: Check failed: err == cudaGetLastError() (0 vs. 46) : \n",
      "\n",
      "--------------------------------------------------------------------------------\n",
      "1 fits failed with the following error:\n",
      "Traceback (most recent call last):\n",
      "  File \"c:\\Users\\gzzaw\\AppData\\Local\\Programs\\Python\\Python310\\lib\\site-packages\\sklearn\\model_selection\\_validation.py\", line 686, in _fit_and_score\n",
      "    estimator.fit(X_train, y_train, **fit_params)\n",
      "  File \"c:\\Users\\gzzaw\\AppData\\Local\\Programs\\Python\\Python310\\lib\\site-packages\\imblearn\\pipeline.py\", line 297, in fit\n",
      "    self._final_estimator.fit(Xt, yt, **fit_params_last_step)\n",
      "  File \"c:\\Users\\gzzaw\\AppData\\Local\\Programs\\Python\\Python310\\lib\\site-packages\\xgboost\\core.py\", line 726, in inner_f\n",
      "    return func(**kwargs)\n",
      "  File \"c:\\Users\\gzzaw\\AppData\\Local\\Programs\\Python\\Python310\\lib\\site-packages\\xgboost\\sklearn.py\", line 1512, in fit\n",
      "    train_dmatrix, evals = _wrap_evaluation_matrices(\n",
      "  File \"c:\\Users\\gzzaw\\AppData\\Local\\Programs\\Python\\Python310\\lib\\site-packages\\xgboost\\sklearn.py\", line 596, in _wrap_evaluation_matrices\n",
      "    train_dmatrix = create_dmatrix(\n",
      "  File \"c:\\Users\\gzzaw\\AppData\\Local\\Programs\\Python\\Python310\\lib\\site-packages\\xgboost\\sklearn.py\", line 1003, in _create_dmatrix\n",
      "    return QuantileDMatrix(\n",
      "  File \"c:\\Users\\gzzaw\\AppData\\Local\\Programs\\Python\\Python310\\lib\\site-packages\\xgboost\\core.py\", line 726, in inner_f\n",
      "    return func(**kwargs)\n",
      "  File \"c:\\Users\\gzzaw\\AppData\\Local\\Programs\\Python\\Python310\\lib\\site-packages\\xgboost\\core.py\", line 1573, in __init__\n",
      "    self._init(\n",
      "  File \"c:\\Users\\gzzaw\\AppData\\Local\\Programs\\Python\\Python310\\lib\\site-packages\\xgboost\\core.py\", line 1632, in _init\n",
      "    it.reraise()\n",
      "  File \"c:\\Users\\gzzaw\\AppData\\Local\\Programs\\Python\\Python310\\lib\\site-packages\\xgboost\\core.py\", line 569, in reraise\n",
      "    raise exc  # pylint: disable=raising-bad-type\n",
      "  File \"c:\\Users\\gzzaw\\AppData\\Local\\Programs\\Python\\Python310\\lib\\site-packages\\xgboost\\core.py\", line 550, in _handle_exception\n",
      "    return fn()\n",
      "  File \"c:\\Users\\gzzaw\\AppData\\Local\\Programs\\Python\\Python310\\lib\\site-packages\\xgboost\\core.py\", line 637, in <lambda>\n",
      "    return self._handle_exception(lambda: self.next(input_data), 0)\n",
      "  File \"c:\\Users\\gzzaw\\AppData\\Local\\Programs\\Python\\Python310\\lib\\site-packages\\xgboost\\data.py\", line 1402, in next\n",
      "    input_data(**self.kwargs)\n",
      "  File \"c:\\Users\\gzzaw\\AppData\\Local\\Programs\\Python\\Python310\\lib\\site-packages\\xgboost\\core.py\", line 726, in inner_f\n",
      "    return func(**kwargs)\n",
      "  File \"c:\\Users\\gzzaw\\AppData\\Local\\Programs\\Python\\Python310\\lib\\site-packages\\xgboost\\core.py\", line 626, in input_data\n",
      "    self.proxy.set_info(\n",
      "  File \"c:\\Users\\gzzaw\\AppData\\Local\\Programs\\Python\\Python310\\lib\\site-packages\\xgboost\\core.py\", line 726, in inner_f\n",
      "    return func(**kwargs)\n",
      "  File \"c:\\Users\\gzzaw\\AppData\\Local\\Programs\\Python\\Python310\\lib\\site-packages\\xgboost\\core.py\", line 954, in set_info\n",
      "    self.set_label(label)\n",
      "  File \"c:\\Users\\gzzaw\\AppData\\Local\\Programs\\Python\\Python310\\lib\\site-packages\\xgboost\\core.py\", line 1092, in set_label\n",
      "    dispatch_meta_backend(self, label, \"label\", \"float\")\n",
      "  File \"c:\\Users\\gzzaw\\AppData\\Local\\Programs\\Python\\Python310\\lib\\site-packages\\xgboost\\data.py\", line 1348, in dispatch_meta_backend\n",
      "    _meta_from_pandas_series(data, name, dtype, handle)\n",
      "  File \"c:\\Users\\gzzaw\\AppData\\Local\\Programs\\Python\\Python310\\lib\\site-packages\\xgboost\\data.py\", line 679, in _meta_from_pandas_series\n",
      "    _meta_from_numpy(data, name, dtype, handle)\n",
      "  File \"c:\\Users\\gzzaw\\AppData\\Local\\Programs\\Python\\Python310\\lib\\site-packages\\xgboost\\data.py\", line 1279, in _meta_from_numpy\n",
      "    _check_call(_LIB.XGDMatrixSetInfoFromInterface(handle, c_str(field), interface_str))\n",
      "  File \"c:\\Users\\gzzaw\\AppData\\Local\\Programs\\Python\\Python310\\lib\\site-packages\\xgboost\\core.py\", line 284, in _check_call\n",
      "    raise XGBoostError(py_str(_LIB.XGBGetLastError()))\n",
      "xgboost.core.XGBoostError: [12:37:23] C:\\buildkite-agent\\builds\\buildkite-windows-cpu-autoscaling-group-i-0c55ff5f71b100e98-1\\xgboost\\xgboost-ci-windows\\src\\data\\array_interface.cu:44: Check failed: err == cudaGetLastError() (0 vs. 46) : \n",
      "\n",
      "  warnings.warn(some_fits_failed_message, FitFailedWarning)\n",
      "c:\\Users\\gzzaw\\AppData\\Local\\Programs\\Python\\Python310\\lib\\site-packages\\sklearn\\model_selection\\_search.py:952: UserWarning: One or more of the test scores are non-finite: [0.81620319        nan 0.76359841        nan 0.79338452 0.77883017\n",
      " 0.87597868 0.81833845 0.80669092 0.89270797 0.84570525 0.83316766\n",
      " 0.88494222 0.85705213 0.83864858 0.90827277 0.88509425 0.8678376\n",
      " 0.93801603 0.91613287 0.90820567 0.95094505 0.93883712 0.93294747]\n",
      "  warnings.warn(\n",
      "c:\\Users\\gzzaw\\AppData\\Local\\Programs\\Python\\Python310\\lib\\site-packages\\xgboost\\core.py:158: UserWarning: [12:37:36] WARNING: C:\\buildkite-agent\\builds\\buildkite-windows-cpu-autoscaling-group-i-0c55ff5f71b100e98-1\\xgboost\\xgboost-ci-windows\\src\\learner.cc:740: \n",
      "Parameters: { \"use_label_encoder\" } are not used.\n",
      "\n",
      "  warnings.warn(smsg, UserWarning)\n"
     ]
    },
    {
     "name": "stdout",
     "output_type": "stream",
     "text": [
      "Best Params (XGBoost): {'clf__learning_rate': 0.1, 'clf__max_depth': 6, 'clf__n_estimators': 200, 'clf__scale_pos_weight': 1}\n",
      "Best F1 (minority class) on CV: 0.9509450467884253\n"
     ]
    }
   ],
   "source": [
    "# Example hyperparameter space for XGBoost\n",
    "param_grid_xgb = {\n",
    "    'clf__n_estimators': [100, 200],\n",
    "    'clf__max_depth': [3, 6],\n",
    "    'clf__learning_rate': [0.01, 0.1],\n",
    "    'clf__scale_pos_weight': [1, 5, 10]  # Adjust to handle class imbalance\n",
    "}\n",
    "\n",
    "xgb_pipeline = ImbPipeline([\n",
    "    ('scaler', StandardScaler()),\n",
    "    ('resample', SMOTETomek(random_state=42)),  # or SMOTE(), ADASYN(), etc.\n",
    "    ('clf', XGBClassifier(\n",
    "        random_state=42,\n",
    "        use_label_encoder=False,\n",
    "        eval_metric='logloss'\n",
    "    ))\n",
    "])\n",
    "\n",
    "grid_search_xgb = GridSearchCV(\n",
    "    estimator=xgb_pipeline,\n",
    "    param_grid=param_grid_xgb,\n",
    "    scoring=f1_minority,\n",
    "    cv=skf,\n",
    "    n_jobs=-1,\n",
    "    verbose=1\n",
    ")\n",
    "\n",
    "grid_search_xgb.fit(X_resampled, y_resampled)\n",
    "\n",
    "print(\"Best Params (XGBoost):\", grid_search_xgb.best_params_)\n",
    "print(\"Best F1 (minority class) on CV:\", grid_search_xgb.best_score_)\n"
   ]
  },
  {
   "cell_type": "code",
   "execution_count": 42,
   "metadata": {},
   "outputs": [
    {
     "name": "stderr",
     "output_type": "stream",
     "text": [
      "c:\\Users\\gzzaw\\AppData\\Local\\Programs\\Python\\Python310\\lib\\site-packages\\xgboost\\core.py:158: UserWarning: [12:37:37] WARNING: C:\\buildkite-agent\\builds\\buildkite-windows-cpu-autoscaling-group-i-0c55ff5f71b100e98-1\\xgboost\\xgboost-ci-windows\\src\\learner.cc:740: \n",
      "Parameters: { \"use_label_encoder\" } are not used.\n",
      "\n",
      "  warnings.warn(smsg, UserWarning)\n"
     ]
    },
    {
     "name": "stdout",
     "output_type": "stream",
     "text": [
      "\n",
      "XGBoost Test Set Classification Report:\n",
      "              precision    recall  f1-score   support\n",
      "\n",
      "         0.0       0.95      0.94      0.95       972\n",
      "         1.0       0.48      0.51      0.49       100\n",
      "\n",
      "    accuracy                           0.90      1072\n",
      "   macro avg       0.71      0.73      0.72      1072\n",
      "weighted avg       0.91      0.90      0.90      1072\n",
      "\n"
     ]
    }
   ],
   "source": [
    "\n",
    "best_xgb = grid_search_xgb.best_estimator_\n",
    "\n",
    "# Retrain on entire resampled data\n",
    "best_xgb.fit(X_resampled, y_resampled)\n",
    "\n",
    "# Predict on test\n",
    "y_pred_xgb = best_xgb.predict(X_test)\n",
    "\n",
    "print(\"\\nXGBoost Test Set Classification Report:\")\n",
    "print(classification_report(y_test, y_pred_xgb))"
   ]
  },
  {
   "cell_type": "markdown",
   "metadata": {},
   "source": [
    "# =========================\n",
    "# 11. CUSTOM THRESHOLD TUNING ON TEST SET\n",
    "# =========================\n"
   ]
  },
  {
   "cell_type": "code",
   "execution_count": 43,
   "metadata": {},
   "outputs": [
    {
     "name": "stdout",
     "output_type": "stream",
     "text": [
      "\n",
      "Best Threshold for RF: 0.425, F1=0.498\n",
      "RF Classification Report (Custom Threshold):\n",
      "              precision    recall  f1-score   support\n",
      "\n",
      "         0.0       0.96      0.92      0.94       972\n",
      "         1.0       0.43      0.59      0.50       100\n",
      "\n",
      "    accuracy                           0.89      1072\n",
      "   macro avg       0.69      0.75      0.72      1072\n",
      "weighted avg       0.91      0.89      0.90      1072\n",
      "\n",
      "\n",
      "Best Threshold for XGB: 0.331, F1=0.530\n",
      "XGBoost Classification Report (Custom Threshold):\n",
      "              precision    recall  f1-score   support\n",
      "\n",
      "         0.0       0.96      0.91      0.94       972\n",
      "         1.0       0.44      0.66      0.53       100\n",
      "\n",
      "    accuracy                           0.89      1072\n",
      "   macro avg       0.70      0.79      0.73      1072\n",
      "weighted avg       0.91      0.89      0.90      1072\n",
      "\n"
     ]
    }
   ],
   "source": [
    "# Random Forest custom threshold\n",
    "rf_threshold, rf_f1 = best_threshold_for_f1(best_rf, X_test, y_test)\n",
    "print(f\"\\nBest Threshold for RF: {rf_threshold:.3f}, F1={rf_f1:.3f}\")\n",
    "\n",
    "rf_probs = best_rf.predict_proba(X_test)[:,1]\n",
    "y_pred_custom_rf = (rf_probs >= rf_threshold).astype(int)\n",
    "\n",
    "print(\"RF Classification Report (Custom Threshold):\")\n",
    "print(classification_report(y_test, y_pred_custom_rf))\n",
    "\n",
    "# XGBoost custom threshold\n",
    "xgb_threshold, xgb_f1 = best_threshold_for_f1(best_xgb, X_test, y_test)\n",
    "print(f\"\\nBest Threshold for XGB: {xgb_threshold:.3f}, F1={xgb_f1:.3f}\")\n",
    "\n",
    "xgb_probs = best_xgb.predict_proba(X_test)[:,1]\n",
    "y_pred_custom_xgb = (xgb_probs >= xgb_threshold).astype(int)\n",
    "\n",
    "print(\"XGBoost Classification Report (Custom Threshold):\")\n",
    "print(classification_report(y_test, y_pred_custom_xgb))\n"
   ]
  },
  {
   "cell_type": "markdown",
   "metadata": {},
   "source": [
    "# =========================\n",
    "# 12. CROSS-VALIDATION HELPER FOR THRESHOLD TUNING\n",
    "# =========================\n"
   ]
  },
  {
   "cell_type": "code",
   "execution_count": 44,
   "metadata": {},
   "outputs": [],
   "source": [
    "def cross_val_threshold_tuning(model, X, y, n_splits=5, pos_label=1, random_state=42):\n",
    "    \"\"\"\n",
    "    Perform Stratified K-Fold cross-validation to find the threshold\n",
    "    that maximizes F1 for the minority class on each fold.\n",
    "    Computes average threshold, F1, AUC, and Balanced Accuracy across folds.\n",
    "    \"\"\"\n",
    "    skf = StratifiedKFold(n_splits=n_splits, shuffle=True, random_state=random_state)\n",
    "    \n",
    "    thresholds = []\n",
    "    f1_scores_fold = []\n",
    "    balanced_acc_scores_fold = []\n",
    "    auc_scores_fold = []\n",
    "    folds_info = []\n",
    "    \n",
    "    for fold_idx, (train_idx, val_idx) in enumerate(skf.split(X, y), 1):\n",
    "        X_train_fold, X_val_fold = X.iloc[train_idx], X.iloc[val_idx]\n",
    "        y_train_fold, y_val_fold = y.iloc[train_idx], y.iloc[val_idx]\n",
    "\n",
    "        # Fit model on this fold's training data\n",
    "        model.fit(X_train_fold, y_train_fold)\n",
    "\n",
    "        # Predicted probabilities for positive class\n",
    "        y_probs_val = model.predict_proba(X_val_fold)[:, 1]\n",
    "\n",
    "        # 1. Find best threshold to maximize F1\n",
    "        precisions, recalls, thresholds_ = precision_recall_curve(y_val_fold, y_probs_val, pos_label=pos_label)\n",
    "        f1s = 2 * (precisions * recalls) / (precisions + recalls + 1e-9)\n",
    "        \n",
    "        best_idx = np.argmax(f1s)\n",
    "        best_threshold_fold = thresholds_[best_idx]\n",
    "        best_f1_fold = f1s[best_idx]\n",
    "\n",
    "        # 2. Compute AUC (threshold-independent)\n",
    "        auc_fold = roc_auc_score(y_val_fold, y_probs_val)\n",
    "\n",
    "        # 3. Balanced Accuracy & F1 at best threshold\n",
    "        y_pred_fold = (y_probs_val >= best_threshold_fold).astype(int)\n",
    "        balanced_acc_fold = balanced_accuracy_score(y_val_fold, y_pred_fold)\n",
    "        \n",
    "        # Store fold results\n",
    "        thresholds.append(best_threshold_fold)\n",
    "        f1_scores_fold.append(best_f1_fold)\n",
    "        balanced_acc_scores_fold.append(balanced_acc_fold)\n",
    "        auc_scores_fold.append(auc_fold)\n",
    "        \n",
    "        folds_info.append({\n",
    "            'fold': fold_idx,\n",
    "            'best_threshold': best_threshold_fold,\n",
    "            'f1': best_f1_fold,\n",
    "            'balanced_acc': balanced_acc_fold,\n",
    "            'auc': auc_fold\n",
    "        })\n",
    "    \n",
    "    # Aggregate\n",
    "    avg_threshold = np.mean(thresholds)\n",
    "    avg_f1 = np.mean(f1_scores_fold)\n",
    "    avg_bal_acc = np.mean(balanced_acc_scores_fold)\n",
    "    avg_auc = np.mean(auc_scores_fold)\n",
    "    \n",
    "    return {\n",
    "        'avg_threshold': avg_threshold,\n",
    "        'avg_f1': avg_f1,\n",
    "        'avg_balanced_acc': avg_bal_acc,\n",
    "        'avg_auc': avg_auc,\n",
    "        'folds_info': folds_info\n",
    "    }"
   ]
  },
  {
   "cell_type": "code",
   "execution_count": 45,
   "metadata": {},
   "outputs": [
    {
     "name": "stdout",
     "output_type": "stream",
     "text": [
      "Cross-Val Results for Random Forest:\n",
      "Average Threshold:     0.323\n",
      "Average F1 (minority): 0.410\n",
      "Average Balanced Acc:  0.751\n",
      "Average AUC:           0.847\n",
      "Fold 1: threshold=0.335, F1=0.393, BalAcc=0.718, AUC=0.845\n",
      "Fold 2: threshold=0.335, F1=0.447, BalAcc=0.788, AUC=0.847\n",
      "Fold 3: threshold=0.270, F1=0.393, BalAcc=0.769, AUC=0.848\n",
      "Fold 4: threshold=0.345, F1=0.433, BalAcc=0.759, AUC=0.871\n",
      "Fold 5: threshold=0.330, F1=0.382, BalAcc=0.721, AUC=0.823\n"
     ]
    }
   ],
   "source": [
    "# Example usage (assuming best_rf is a pipeline or classifier you want to evaluate)\n",
    "results_rf = cross_val_threshold_tuning(best_rf, X_train, y_train, n_splits=5)\n",
    "\n",
    "print(\"Cross-Val Results for Random Forest:\")\n",
    "print(f\"Average Threshold:     {results_rf['avg_threshold']:.3f}\")\n",
    "print(f\"Average F1 (minority): {results_rf['avg_f1']:.3f}\")\n",
    "print(f\"Average Balanced Acc:  {results_rf['avg_balanced_acc']:.3f}\")\n",
    "print(f\"Average AUC:           {results_rf['avg_auc']:.3f}\")\n",
    "\n",
    "for info in results_rf['folds_info']:\n",
    "    print(f\"Fold {info['fold']}: threshold={info['best_threshold']:.3f}, \"\n",
    "          f\"F1={info['f1']:.3f}, BalAcc={info['balanced_acc']:.3f}, AUC={info['auc']:.3f}\")\n"
   ]
  },
  {
   "cell_type": "markdown",
   "metadata": {},
   "source": [
    "\n",
    "# =========================\n",
    "# 13. FINAL EVALUATION ON TEST USING AVERAGE CV THRESHOLD\n",
    "# ========================="
   ]
  },
  {
   "cell_type": "code",
   "execution_count": 47,
   "metadata": {},
   "outputs": [],
   "source": [
    "\n",
    "# 1. Retrain the model on all training data\n",
    "best_rf.fit(X_train, y_train)\n",
    "\n",
    "# 2. Get predicted probabilities on test set\n",
    "rf_probs_test = best_rf.predict_proba(X_test)[:, 1]\n",
    "\n",
    "# 3. Apply the average best threshold from cross-validation\n",
    "best_thresh_from_cv = results_rf['avg_threshold']\n",
    "y_pred_test_custom = (rf_probs_test >= best_thresh_from_cv).astype(int)\n"
   ]
  },
  {
   "cell_type": "code",
   "execution_count": 48,
   "metadata": {},
   "outputs": [
    {
     "name": "stdout",
     "output_type": "stream",
     "text": [
      "\n",
      "Final Test Evaluation (using avg best threshold from CV):\n",
      "              precision    recall  f1-score   support\n",
      "\n",
      "         0.0       0.97      0.85      0.91       972\n",
      "         1.0       0.33      0.72      0.45       100\n",
      "\n",
      "    accuracy                           0.84      1072\n",
      "   macro avg       0.65      0.79      0.68      1072\n",
      "weighted avg       0.91      0.84      0.86      1072\n",
      "\n",
      "AUC: 0.873\n",
      "Balanced Accuracy: 0.785\n"
     ]
    }
   ],
   "source": [
    "# 4. Evaluate\n",
    "print(\"\\nFinal Test Evaluation (using avg best threshold from CV):\")\n",
    "print(classification_report(y_test, y_pred_test_custom))\n",
    "\n",
    "test_auc = roc_auc_score(y_test, rf_probs_test)\n",
    "test_bal_acc = balanced_accuracy_score(y_test, y_pred_test_custom)\n",
    "print(f\"AUC: {test_auc:.3f}\")\n",
    "print(f\"Balanced Accuracy: {test_bal_acc:.3f}\")\n"
   ]
  },
  {
   "cell_type": "code",
   "execution_count": 49,
   "metadata": {},
   "outputs": [
    {
     "name": "stderr",
     "output_type": "stream",
     "text": [
      "c:\\Users\\gzzaw\\AppData\\Local\\Programs\\Python\\Python310\\lib\\site-packages\\xgboost\\core.py:158: UserWarning: [12:38:43] WARNING: C:\\buildkite-agent\\builds\\buildkite-windows-cpu-autoscaling-group-i-0c55ff5f71b100e98-1\\xgboost\\xgboost-ci-windows\\src\\learner.cc:740: \n",
      "Parameters: { \"use_label_encoder\" } are not used.\n",
      "\n",
      "  warnings.warn(smsg, UserWarning)\n",
      "c:\\Users\\gzzaw\\AppData\\Local\\Programs\\Python\\Python310\\lib\\site-packages\\xgboost\\core.py:158: UserWarning: [12:38:43] WARNING: C:\\buildkite-agent\\builds\\buildkite-windows-cpu-autoscaling-group-i-0c55ff5f71b100e98-1\\xgboost\\xgboost-ci-windows\\src\\learner.cc:740: \n",
      "Parameters: { \"use_label_encoder\" } are not used.\n",
      "\n",
      "  warnings.warn(smsg, UserWarning)\n",
      "c:\\Users\\gzzaw\\AppData\\Local\\Programs\\Python\\Python310\\lib\\site-packages\\xgboost\\core.py:158: UserWarning: [12:38:44] WARNING: C:\\buildkite-agent\\builds\\buildkite-windows-cpu-autoscaling-group-i-0c55ff5f71b100e98-1\\xgboost\\xgboost-ci-windows\\src\\learner.cc:740: \n",
      "Parameters: { \"use_label_encoder\" } are not used.\n",
      "\n",
      "  warnings.warn(smsg, UserWarning)\n",
      "c:\\Users\\gzzaw\\AppData\\Local\\Programs\\Python\\Python310\\lib\\site-packages\\xgboost\\core.py:158: UserWarning: [12:38:44] WARNING: C:\\buildkite-agent\\builds\\buildkite-windows-cpu-autoscaling-group-i-0c55ff5f71b100e98-1\\xgboost\\xgboost-ci-windows\\src\\learner.cc:740: \n",
      "Parameters: { \"use_label_encoder\" } are not used.\n",
      "\n",
      "  warnings.warn(smsg, UserWarning)\n",
      "c:\\Users\\gzzaw\\AppData\\Local\\Programs\\Python\\Python310\\lib\\site-packages\\xgboost\\core.py:158: UserWarning: [12:38:45] WARNING: C:\\buildkite-agent\\builds\\buildkite-windows-cpu-autoscaling-group-i-0c55ff5f71b100e98-1\\xgboost\\xgboost-ci-windows\\src\\learner.cc:740: \n",
      "Parameters: { \"use_label_encoder\" } are not used.\n",
      "\n",
      "  warnings.warn(smsg, UserWarning)\n"
     ]
    },
    {
     "name": "stdout",
     "output_type": "stream",
     "text": [
      "\n",
      "Cross-Val Results for XGBoost:\n",
      "Average Threshold:     0.312\n",
      "Average F1 (minority): 0.425\n",
      "Average Balanced Acc:  0.742\n",
      "Average AUC:           0.851\n"
     ]
    }
   ],
   "source": [
    "# Repeat the cross-val threshold tuning for XGBoost if desired\n",
    "results_xgb = cross_val_threshold_tuning(best_xgb, X_train, y_train, n_splits=5)\n",
    "print(\"\\nCross-Val Results for XGBoost:\")\n",
    "print(f\"Average Threshold:     {results_xgb['avg_threshold']:.3f}\")\n",
    "print(f\"Average F1 (minority): {results_xgb['avg_f1']:.3f}\")\n",
    "print(f\"Average Balanced Acc:  {results_xgb['avg_balanced_acc']:.3f}\")\n",
    "print(f\"Average AUC:           {results_xgb['avg_auc']:.3f}\")\n"
   ]
  },
  {
   "cell_type": "code",
   "execution_count": 50,
   "metadata": {},
   "outputs": [
    {
     "name": "stderr",
     "output_type": "stream",
     "text": [
      "c:\\Users\\gzzaw\\AppData\\Local\\Programs\\Python\\Python310\\lib\\site-packages\\xgboost\\core.py:158: UserWarning: [12:39:52] WARNING: C:\\buildkite-agent\\builds\\buildkite-windows-cpu-autoscaling-group-i-0c55ff5f71b100e98-1\\xgboost\\xgboost-ci-windows\\src\\learner.cc:740: \n",
      "Parameters: { \"use_label_encoder\" } are not used.\n",
      "\n",
      "  warnings.warn(smsg, UserWarning)\n"
     ]
    }
   ],
   "source": [
    "# Retrain on full training data\n",
    "best_xgb.fit(X_train, y_train)\n",
    "xgb_probs_test = best_xgb.predict_proba(X_test)[:, 1]\n"
   ]
  },
  {
   "cell_type": "code",
   "execution_count": 52,
   "metadata": {},
   "outputs": [
    {
     "name": "stdout",
     "output_type": "stream",
     "text": [
      "\n",
      "Final Test Evaluation (XGB, using avg best threshold from CV):\n",
      "              precision    recall  f1-score   support\n",
      "\n",
      "         0.0       0.96      0.90      0.93       972\n",
      "         1.0       0.41      0.68      0.52       100\n",
      "\n",
      "    accuracy                           0.88      1072\n",
      "   macro avg       0.69      0.79      0.72      1072\n",
      "weighted avg       0.91      0.88      0.89      1072\n",
      "\n"
     ]
    }
   ],
   "source": [
    "\n",
    "best_thresh_from_cv_xgb = results_xgb['avg_threshold']\n",
    "y_pred_test_xgb_custom = (xgb_probs_test >= best_thresh_from_cv_xgb).astype(int)\n",
    "\n",
    "print(\"\\nFinal Test Evaluation (XGB, using avg best threshold from CV):\")\n",
    "print(classification_report(y_test, y_pred_test_xgb_custom))\n"
   ]
  },
  {
   "cell_type": "code",
   "execution_count": 53,
   "metadata": {},
   "outputs": [
    {
     "name": "stdout",
     "output_type": "stream",
     "text": [
      "AUC: 0.890\n",
      "Balanced Accuracy: 0.791\n"
     ]
    }
   ],
   "source": [
    "\n",
    "test_auc_xgb = roc_auc_score(y_test, xgb_probs_test)\n",
    "test_bal_acc_xgb = balanced_accuracy_score(y_test, y_pred_test_xgb_custom)\n",
    "print(f\"AUC: {test_auc_xgb:.3f}\")\n",
    "print(f\"Balanced Accuracy: {test_bal_acc_xgb:.3f}\")"
   ]
  },
  {
   "cell_type": "code",
   "execution_count": 54,
   "metadata": {},
   "outputs": [
    {
     "data": {
      "image/png": "[encoded data removed]",
      "text/plain": [
       "<Figure size 800x600 with 1 Axes>"
      ]
     },
     "metadata": {},
     "output_type": "display_data"
    }
   ],
   "source": [
    "\n",
    "from sklearn.metrics import roc_curve\n",
    "\n",
    "# 1. Compute ROC curves for each model\n",
    "fpr_rf, tpr_rf, _ = roc_curve(y_test, rf_probs_test)\n",
    "fpr_xgb, tpr_xgb, _ = roc_curve(y_test, xgb_probs_test)\n",
    "\n",
    "# 2. Plot all ROC curves in one plot\n",
    "plt.figure(figsize=(8, 6))\n",
    "\n",
    "# Plot Random Forest ROC curve\n",
    "plt.plot(fpr_rf, tpr_rf, label=f'Random Forest (AUC = {test_auc:.3f})', color='blue')\n",
    "\n",
    "# Plot XGBoost ROC curve\n",
    "plt.plot(fpr_xgb, tpr_xgb, label=f'XGBoost (AUC = {test_auc_xgb:.3f})', color='green')\n",
    "\n",
    "# Plot the diagonal line (random classifier)\n",
    "plt.plot([0, 1], [0, 1], linestyle='--', color='gray', label='Random Classifier')\n",
    "\n",
    "# Add labels and title\n",
    "plt.xlabel('False Positive Rate (FPR)')\n",
    "plt.ylabel('True Positive Rate (TPR)')\n",
    "plt.title('ROC Curves for Different Models')\n",
    "plt.legend(loc='lower right')\n",
    "\n",
    "# Show the plot\n",
    "plt.show()"
   ]
  }
 ],
 "metadata": {
  "kernelspec": {
   "display_name": "Python 3",
   "language": "python",
   "name": "python3"
  },
  "language_info": {
   "codemirror_mode": {
    "name": "ipython",
    "version": 3
   },
   "file_extension": ".py",
   "mimetype": "text/x-python",
   "name": "python",
   "nbconvert_exporter": "python",
   "pygments_lexer": "ipython3",
   "version": "3.10.0"
  }
 },
 "nbformat": 4,
 "nbformat_minor": 2
}
